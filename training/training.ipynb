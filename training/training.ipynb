{
 "cells": [
  {
   "cell_type": "code",
   "execution_count": 1,
   "metadata": {
    "colab": {
     "base_uri": "https://localhost:8080/"
    },
    "id": "W8hGDoyLsIen",
    "outputId": "ddf5c918-9d61-44c5-8b99-82199a6a7255"
   },
   "outputs": [
    {
     "name": "stdout",
     "output_type": "stream",
     "text": [
      "Defaulting to user installation because normal site-packages is not writeable\n",
      "Requirement already satisfied: neattext in c:\\users\\devip\\appdata\\roaming\\python\\python310\\site-packages (0.1.3)\n"
     ]
    }
   ],
   "source": [
    "!pip3 install neattext\n",
    "import pandas as pd\n",
    "import neattext.functions as nfx\n",
    "from sklearn.feature_extraction.text import TfidfVectorizer,CountVectorizer\n",
    "from sklearn.metrics.pairwise import cosine_similarity,linear_kernel"
   ]
  },
  {
   "cell_type": "code",
   "execution_count": 2,
   "metadata": {
    "colab": {
     "base_uri": "https://localhost:8080/"
    },
    "id": "A10iBbZKMnD4",
    "outputId": "0788f888-52b8-4c57-d9d4-409df0873c7d"
   },
   "outputs": [],
   "source": [
    "# !mkdir ~/.kaggle\n",
    "# !touch ~/.kaggle/kaggle.json\n",
    "\n",
    "# api_token = api_token = {\"username\":\"<Username>\",\"key\":\"<API_KEY>\"}\n",
    "\n",
    "# import json\n",
    "\n",
    "# with open('/root/.kaggle/kaggle.json', 'w') as file:\n",
    "#     json.dump(api_token, file)\n",
    "\n",
    "# !chmod 600 ~/.kaggle/kaggle.json"
   ]
  },
  {
   "cell_type": "code",
   "execution_count": 3,
   "metadata": {
    "colab": {
     "base_uri": "https://localhost:8080/"
    },
    "id": "MVEwd6P1sAHZ",
    "outputId": "1b3d1c16-cc17-4481-f570-6debe8a5ad70"
   },
   "outputs": [],
   "source": [
    "# ! kaggle datasets download -d thedevastator/udemy-courses-revenue-generation-and-course-anal\n",
    "# !unzip udemy-courses-revenue-generation-and-course-anal.zip"
   ]
  },
  {
   "cell_type": "code",
   "execution_count": null,
   "metadata": {},
   "outputs": [],
   "source": [
    "pip install kaggle\n"
   ]
  },
  {
   "cell_type": "code",
   "execution_count": null,
   "metadata": {
    "colab": {
     "base_uri": "https://localhost:8080/",
     "height": 483
    },
    "id": "JMe8QxK8N-Za",
    "outputId": "3ddbe021-e46a-4f91-da19-55cf68fed5a3"
   },
   "outputs": [],
   "source": [
    "business_df = pd.read_csv(r\"C:\\Users\\devip\\Desktop\\MST_project\\Courserecommendation\\training\\datasets\\3.1-data-sheet-udemy-courses-business-courses.csv\")\n",
    "design_df = pd.read_csv(r\"C:\\Users\\devip\\Desktop\\MST_project\\Courserecommendation\\training\\datasets\\3.1-data-sheet-udemy-courses-design-courses.csv\")\n",
    "music_df = pd.read_csv(r\"C:\\Users\\devip\\Desktop\\MST_project\\Courserecommendation\\training\\datasets\\3.1-data-sheet-udemy-courses-music-courses.csv\")\n",
    "web_df = pd.read_csv(r\"C:\\Users\\devip\\Desktop\\MST_project\\Courserecommendation\\training\\datasets\\3.1-data-sheet-udemy-courses-web-development.csv\")\n",
    "entry_df = pd.read_csv(r\"C:\\Users\\devip\\Desktop\\MST_project\\Courserecommendation\\training\\datasets\\Entry Level Project Sheet - 3.1-data-sheet-udemy-courses-web-development.csv\")\n",
    "df = pd.concat([business_df, design_df,music_df,web_df,entry_df])\n",
    "df.head()"
   ]
  },
  {
   "cell_type": "code",
   "execution_count": null,
   "metadata": {
    "colab": {
     "base_uri": "https://localhost:8080/"
    },
    "id": "qK-rRfACUmAL",
    "outputId": "5614deb6-ad35-45dc-f6df-511141b4b960"
   },
   "outputs": [],
   "source": [
    " df['course_title'].iloc[1:5]"
   ]
  },
  {
   "cell_type": "markdown",
   "metadata": {
    "id": "eVrwUvzJTn-k"
   },
   "source": [
    "**Remove Stopwords**\n",
    "\n",
    "\n",
    "**Remove special characters**"
   ]
  },
  {
   "cell_type": "code",
   "execution_count": null,
   "metadata": {
    "colab": {
     "base_uri": "https://localhost:8080/"
    },
    "id": "y5RGrNKNSn_H",
    "outputId": "fa576882-0833-4640-9c91-0b9a828782eb"
   },
   "outputs": [],
   "source": [
    "df = df.drop_duplicates(subset=['course_title'])\n",
    "\n",
    "df['clean_title'] = df['course_title'].astype(str)\n",
    "\n",
    "df['clean_title'] = df['clean_title'].apply(nfx.remove_stopwords)\n",
    "\n",
    "df['clean_title'] = df['clean_title'].apply(nfx.remove_special_characters)\n",
    "\n",
    "df['clean_title'].iloc[1:5]"
   ]
  },
  {
   "cell_type": "code",
   "execution_count": null,
   "metadata": {
    "colab": {
     "base_uri": "https://localhost:8080/"
    },
    "id": "7C8Pix1f1eP4",
    "outputId": "f74f80a9-ad86-4244-a7dc-693e983f6062"
   },
   "outputs": [],
   "source": [
    "countvect = CountVectorizer()\n",
    "\n",
    "cv_mat = countvect.fit_transform(df['clean_title'])\n",
    "\n",
    "cv_mat"
   ]
  },
  {
   "cell_type": "code",
   "execution_count": null,
   "metadata": {
    "colab": {
     "base_uri": "https://localhost:8080/",
     "height": 526
    },
    "id": "z8A7udav2XCH",
    "outputId": "8ce2b8fe-6d16-4e44-8ed5-eb725fbec761"
   },
   "outputs": [],
   "source": [
    "df_cv_words = pd.DataFrame(cv_mat.todense(),columns=countvect.get_feature_names_out())\n",
    "\n",
    "df_cv_words"
   ]
  },
  {
   "cell_type": "code",
   "execution_count": null,
   "metadata": {
    "id": "LIF0TDZF3AdR"
   },
   "outputs": [],
   "source": [
    "cosine_sim_mat = cosine_similarity(cv_mat)"
   ]
  },
  {
   "cell_type": "code",
   "execution_count": null,
   "metadata": {
    "colab": {
     "base_uri": "https://localhost:8080/",
     "height": 1000
    },
    "id": "1_r4zcJq2odo",
    "outputId": "a850889a-989f-414d-bf15-95d22347340f",
    "scrolled": true
   },
   "outputs": [],
   "source": [
    "def recommend_course(title,numrec = 10):\n",
    "    \n",
    "    course_index = pd.Series( df.index, index=df['clean_title']).drop_duplicates()\n",
    "    \n",
    "    index = course_index[title]\n",
    "\n",
    "    scores = list(enumerate(cosine_sim_mat [index]))\n",
    "    \n",
    "    sorted_scores = sorted(scores, key=lambda x: x[1], reverse=True)\n",
    "\n",
    "    selected_course_index = [i[0] for i in sorted_scores[1:]]\n",
    "\n",
    "    selected_course_score = [i[1] for i in sorted_scores[1:]]\n",
    "\n",
    "    rec_df = df.iloc[selected_course_index]\n",
    "\n",
    "    rec_df['Similarity_Score'] = selected_course_score\n",
    "\n",
    "    final_recommended_courses = rec_df[[\n",
    "        'course_title', 'Similarity_Score', 'url', 'price', 'num_subscribers']]\n",
    "\n",
    "    return final_recommended_courses.head(numrec)\n",
    "\n",
    "\n",
    "\n",
    "\n",
    "ans = recommend_course('Introduction Financial Modeling',20)\n",
    "\n",
    "ans"
   ]
  },
  {
   "cell_type": "code",
   "execution_count": null,
   "metadata": {
    "id": "QBqWckbW_tnn"
   },
   "outputs": [],
   "source": [
    "ans.to_json(orient ='index')"
   ]
  },
  {
   "cell_type": "code",
   "execution_count": null,
   "metadata": {
    "colab": {
     "base_uri": "https://localhost:8080/"
    },
    "id": "QYoBWUvzDJBN",
    "outputId": "b6dd1a1c-a8fa-4465-cf78-5f9fec570933"
   },
   "outputs": [],
   "source": [
    "class RecommendCourses:\n",
    "  def __init__(self):\n",
    "    #create a dataframe \n",
    "    business_df = pd.read_csv(r\"C:\\Users\\devip\\Desktop\\MST_project\\Courserecommendation\\training\\datasets\\3.1-data-sheet-udemy-courses-business-courses.csv\")\n",
    "    design_df = pd.read_csv(r\"C:\\Users\\devip\\Desktop\\MST_project\\Courserecommendation\\training\\datasets\\3.1-data-sheet-udemy-courses-design-courses.csv\")\n",
    "    music_df = pd.read_csv(r\"C:\\Users\\devip\\Desktop\\MST_project\\Courserecommendation\\training\\datasets\\3.1-data-sheet-udemy-courses-music-courses.csv\")\n",
    "    web_df = pd.read_csv(r\"C:\\Users\\devip\\Desktop\\MST_project\\Courserecommendation\\training\\datasets\\3.1-data-sheet-udemy-courses-web-development.csv\")\n",
    "    entry_df = pd.read_csv(r\"C:\\Users\\devip\\Desktop\\MST_project\\Courserecommendation\\training\\datasets\\Entry Level Project Sheet - 3.1-data-sheet-udemy-courses-web-development.csv\")\n",
    "    df = pd.concat([business_df, design_df,music_df,web_df,entry_df])\n",
    "\n",
    "    #drop duplicates from the course_title column\n",
    "    df = df.drop_duplicates(subset=['course_title'])\n",
    "    # clean_title column to string from course_title\n",
    "    df['clean_title'] = df['course_title'].astype(str)\n",
    "    # clean_title remove stopwords\n",
    "    df['clean_title'] = df['clean_title'].apply(nfx.remove_stopwords)\n",
    "    # clean_title remove special characters\n",
    "    df['clean_title'] = df['clean_title'].apply(nfx.remove_special_characters)\n",
    "\n",
    "    # create CountVectorizer\n",
    "    countvect = CountVectorizer()\n",
    "    cv_mat = countvect.fit_transform(df['clean_title'])\n",
    "\n",
    "    # create CV words\n",
    "    df_cv_words = pd.DataFrame(cv_mat.todense(),columns=countvect.get_feature_names_out())\n",
    "    self.df = df\n",
    "    self.cosine_sim_mat = cosine_similarity(cv_mat)\n",
    "    print(\"Data loaded Successfully\")\n",
    "\n",
    "\n",
    "  def recommend_course(self,title,numrec = 10):\n",
    "    course_index = pd.Series( df.index, index=df['clean_title']).drop_duplicates()\n",
    "    if title in course_index:\n",
    "      index = course_index[title]\n",
    "      scores = list(enumerate(cosine_sim_mat [index]))\n",
    "      sorted_scores = sorted(scores, key=lambda x: x[1], reverse=True)\n",
    "      selected_course_index = [i[0] for i in sorted_scores[1:]]\n",
    "      selected_course_score = [i[1] for i in sorted_scores[1:]]\n",
    "      rec_df = df.iloc[selected_course_index]\n",
    "      rec_df['Similarity_Score'] = selected_course_score\n",
    "      final_recommended_courses = rec_df[[\n",
    "          'course_title', 'Similarity_Score', 'url', 'price', 'num_subscribers']]\n",
    "      return {\"error\":None,\"data\":final_recommended_courses.head(numrec).to_json(orient ='index')}\n",
    "    else:\n",
    "      return {\"error\": \"course with title name \"+title+\" not found\"}\n",
    "\n",
    "recommendation = RecommendCourses()\n",
    "recommendation.recommend_course('Introduction Financial Modeling',20)\n"
   ]
  },
  {
   "cell_type": "code",
   "execution_count": null,
   "metadata": {},
   "outputs": [],
   "source": []
  }
 ],
 "metadata": {
  "colab": {
   "provenance": []
  },
  "kernelspec": {
   "display_name": "Python 3 (ipykernel)",
   "language": "python",
   "name": "python3"
  },
  "language_info": {
   "codemirror_mode": {
    "name": "ipython",
    "version": 3
   },
   "file_extension": ".py",
   "mimetype": "text/x-python",
   "name": "python",
   "nbconvert_exporter": "python",
   "pygments_lexer": "ipython3",
   "version": "3.10.9"
  }
 },
 "nbformat": 4,
 "nbformat_minor": 1
}
